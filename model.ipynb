{
 "cells": [
  {
   "cell_type": "code",
   "execution_count": 1,
   "id": "91da6bf1",
   "metadata": {},
   "outputs": [
    {
     "name": "stdout",
     "output_type": "stream",
     "text": [
      "Model Performance:\n",
      "              precision    recall  f1-score   support\n",
      "\n",
      "           1       0.83      1.00      0.91        15\n",
      "           2       1.00      1.00      1.00         1\n",
      "           3       0.72      1.00      0.84        18\n",
      "           4       1.00      0.68      0.81        22\n",
      "           5       1.00      0.88      0.93        24\n",
      "\n",
      "    accuracy                           0.88        80\n",
      "   macro avg       0.91      0.91      0.90        80\n",
      "weighted avg       0.91      0.88      0.87        80\n",
      "\n",
      "✅ Model and encoders saved!\n"
     ]
    }
   ],
   "source": [
    "import pandas as pd\n",
    "from sklearn.model_selection import train_test_split\n",
    "from sklearn.ensemble import RandomForestClassifier\n",
    "from sklearn.preprocessing import LabelEncoder\n",
    "from sklearn.metrics import classification_report\n",
    "import joblib\n",
    "\n",
    "# Load dataset\n",
    "df = pd.read_csv(\"Cleaned_IPL_Dataset2.csv\")\n",
    "\n",
    "# Selected features\n",
    "features = [\n",
    "    \"Age Group\", \"Gender\", \"Favorite IPL Team:\", \"Who is your favorite player in IPL?\",\n",
    "    \"How long have you supported this team?\", \"Have you ever argued with someone online about IPL?\",\n",
    "    \"Have you ever attended an IPL match in a stadium?\"\n",
    "]\n",
    "\n",
    "target = \"How emotionally invested are you in IPL? (Scale: 1 - Not at all, 5 - Very emotionally invested)\"\n",
    "\n",
    "# Drop missing values\n",
    "df_model = df[features + [target]].dropna()\n",
    "\n",
    "# Encode categorical variables\n",
    "encoders = {}\n",
    "for col in features:\n",
    "    le = LabelEncoder()\n",
    "    df_model[col] = le.fit_transform(df_model[col])\n",
    "    encoders[col] = le\n",
    "\n",
    "# Prepare X and y\n",
    "X = df_model[features]\n",
    "y = df_model[target]\n",
    "\n",
    "# Train-test split\n",
    "X_train, X_test, y_train, y_test = train_test_split(X, y, test_size=0.2, random_state=42)\n",
    "\n",
    "# Train model\n",
    "model = RandomForestClassifier(n_estimators=100, random_state=42)\n",
    "model.fit(X_train, y_train)\n",
    "\n",
    "# Evaluate\n",
    "print(\"Model Performance:\")\n",
    "print(classification_report(y_test, model.predict(X_test)))\n",
    "\n",
    "# Save model and encoders\n",
    "joblib.dump(model, \"investment_model.pkl\")\n",
    "joblib.dump(encoders, \"label_encoders.pkl\")\n",
    "print(\"✅ Model and encoders saved!\")"
   ]
  }
 ],
 "metadata": {
  "kernelspec": {
   "display_name": "SenAna",
   "language": "python",
   "name": "python3"
  },
  "language_info": {
   "codemirror_mode": {
    "name": "ipython",
    "version": 3
   },
   "file_extension": ".py",
   "mimetype": "text/x-python",
   "name": "python",
   "nbconvert_exporter": "python",
   "pygments_lexer": "ipython3",
   "version": "3.13.1"
  }
 },
 "nbformat": 4,
 "nbformat_minor": 5
}
